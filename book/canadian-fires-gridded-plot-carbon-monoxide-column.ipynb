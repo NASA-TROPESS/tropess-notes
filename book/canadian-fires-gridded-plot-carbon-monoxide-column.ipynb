{
 "cells": [
  {
   "attachments": {},
   "cell_type": "markdown",
   "metadata": {},
   "source": [
    "# Canadian Fires - Carbon Monoxide (CO) - CrIS JPSS-1\n",
    "\n",
    "## Total Column - (14km x 14km) gridded plots\n",
    "\n",
    "This code plots the Carbon Monoxide (CO) total column for each day from 01-Jun-2023 to 08-Jun-2023."
   ]
  },
  {
   "cell_type": "code",
   "execution_count": 1,
   "metadata": {},
   "outputs": [],
   "source": [
    "import datetime\n",
    "import contextlib\n",
    "\n",
    "from pathlib import Path\n",
    "\n",
    "import pandas as pd\n",
    "\n",
    "import numpy as np\n",
    "from netCDF4 import Dataset\n",
    "\n",
    "import matplotlib.pyplot as plt\n",
    "\n",
    "from mpl_toolkits.basemap import Basemap\n",
    "\n",
    "from scipy.interpolate import griddata\n",
    "from scipy.spatial import cKDTree\n",
    "\n",
    "import imageio.v2 as imageio"
   ]
  },
  {
   "cell_type": "code",
   "execution_count": 2,
   "metadata": {},
   "outputs": [],
   "source": [
    "# Specify date range\n",
    "start_date = datetime.date(2023, 6, 1)\n",
    "end_date = datetime.date(2023, 6, 8)\n",
    "\n",
    "# Loop through the date range and plot Carbon Monoxide for each day\n",
    "for current_date in pd.date_range(start_date, end_date):\n",
    "    # Open the netCDF file\n",
    "    file_date = current_date.strftime(\"%Y%m%d\")\n",
    "    dataset = Dataset(f'./data/TROPESS_CrIS-JPSS1_L2_Summary_CO_{file_date}_MUSES_R1p20_FS_F0p6.nc', 'r')\n",
    "\n",
    "    # Read the data from your variables\n",
    "    latitude = dataset.variables['latitude'][:]\n",
    "    longitude = dataset.variables['longitude'][:]\n",
    "    x_col = dataset.variables['x_col'][:]\n",
    "\n",
    "    dataset.close()\n",
    "\n",
    "    # Filter the data for North America only\n",
    "    latitude_max = 80.0\n",
    "    latitude_min = 10.0\n",
    "    longitude_max = -40.0\n",
    "    longitude_min = -170.0\n",
    "\n",
    "    north_america_only = np.where(\n",
    "        (latitude > latitude_min) & (latitude < latitude_max) & \n",
    "        (longitude > longitude_min) &(longitude < longitude_max)\n",
    "    )[0]\n",
    "\n",
    "    latitude = latitude[north_america_only]\n",
    "    longitude = longitude[north_america_only]\n",
    "    x_col = x_col[north_america_only]\n",
    "\n",
    "    # Calculate width and height\n",
    "    aspect_ratio = (longitude_max - longitude_min) / (latitude_max - latitude_min)\n",
    "    w = 3600; h = w / aspect_ratio\n",
    "\n",
    "    # Specify figure size (in inches)\n",
    "    dpi = 300; \n",
    "    plt.figure(figsize=(w / dpi, h / dpi))  \n",
    "\n",
    "    # Create a basemap instance\n",
    "    m = Basemap(projection='cyl', resolution='l',\n",
    "                llcrnrlat=10, urcrnrlat=80,  # set latitude limits to 10 and 80\n",
    "                llcrnrlon=-170, urcrnrlon=-40)  # set longitude limits to -170 and -40\n",
    "\n",
    "    m.drawmapboundary(fill_color='black')\n",
    "    m.drawcoastlines(linewidth=0.3, color='white')\n",
    "    m.drawcountries(linewidth=0.2, color='white')\n",
    "    m.drawstates(linewidth=0.2, color='white')\n",
    "\n",
    "\n",
    "    # Draw parallels (latitude lines) and meridians (longitude lines)\n",
    "    parallels = np.arange(-90., 91., 10.)\n",
    "    m.drawparallels(parallels, labels=[True,False,False,False], linewidth=0.3)\n",
    "\n",
    "    meridians = np.arange(-180., 181., 10.)\n",
    "    m.drawmeridians(meridians, labels=[False,False,False,True], linewidth=0.3)\n",
    "\n",
    "    # Get CrIS pixel size in degrees, pixel is 14 x 14 km, 1 degree is roughly 111.1 km\n",
    "    cris_pixel_size_deg = 14.0 / 111.1 \n",
    "\n",
    "    # Get the grid for the interpolated values\n",
    "    grid_lat, grid_lon = np.mgrid[10:81:cris_pixel_size_deg, -170:-39:cris_pixel_size_deg]\n",
    "\n",
    "    # Interpolate the data using griddata\n",
    "    grid_x_col = griddata((latitude, longitude), x_col, (grid_lat, grid_lon), method='linear', rescale=True)\n",
    "\n",
    "    # Find the distance to the nearest original point for each point in the interpolated grid\n",
    "    tree = cKDTree(np.vstack((latitude, longitude)).T)\n",
    "    dist, _ = tree.query(np.vstack((grid_lat.ravel(), grid_lon.ravel())).T)\n",
    "\n",
    "    # Reshape the distance array to have the same shape as the x_col grid\n",
    "    dist_grid = dist.reshape(grid_x_col.shape)\n",
    "\n",
    "    # Mask the interpolated values that are too far from any original point\n",
    "    max_distance_degrees = 3.0\n",
    "    grid_x_col[dist_grid > max_distance_degrees] = np.nan\n",
    "\n",
    "    # Plot the interpolated data using pcolormesh instead of scatter\n",
    "    sc = m.pcolormesh(grid_lon, grid_lat, grid_x_col, latlon=True, cmap='jet', alpha=0.7, vmin=60.0, vmax=200.0)\n",
    "\n",
    "    # Add a colorbar\n",
    "    cbar = m.colorbar(sc, location='bottom', pad=\"10%\")\n",
    "    cbar.set_label('Column-averaged dry-air mixing ratio of carbon monoxide from the surface to Top of Atmosphere (TOA), ppbv')\n",
    "\n",
    "    # set plot title\n",
    "    title_date = current_date.strftime(\"%d-%b-%Y\")\n",
    "    title_min = np.min(x_col)\n",
    "    title_max = np.max(x_col)\n",
    "    plt.title(f'TROPESS - CrIS JPSS-1 - Carbon Monoxide Column (XCO) - {title_date}\\nMin: {title_min:.01f}, Max: {title_max:.01f} ppbv')\n",
    "\n",
    "    # Save figure to PNG file\n",
    "    plt.savefig(f'./images/TROPESS_Canadian-Fires_CrIS-JPSS-1_XCO_{title_date}.png', dpi=dpi, bbox_inches='tight')\n",
    "\n",
    "    plt.close()"
   ]
  },
  {
   "attachments": {},
   "cell_type": "markdown",
   "metadata": {},
   "source": [
    "Now generate an animated GIF from the saved figures."
   ]
  },
  {
   "cell_type": "code",
   "execution_count": 3,
   "metadata": {},
   "outputs": [],
   "source": [
    "timelapse_start_date = start_date.strftime(\"%d-%b-%Y\")\n",
    "timelapse_end_date = end_date.strftime(\"%d-%b-%Y\")\n",
    "timelapse_file = f'./images/TROPESS_Canadian-Fires_CrIS-JPSS-1_XCO_Timelapse_{timelapse_start_date}_{timelapse_end_date}.gif'\n",
    "\n",
    "# Path to the directory where the images were saved in the previous step\n",
    "img_dir = Path('./images')\n",
    "\n",
    "# Get all file names in the directory\n",
    "files = sorted([img for img in img_dir.glob(\"TROPESS_Canadian-Fires_CrIS-JPSS-1_XCO_*.png\")])\n",
    "\n",
    "# Read the images and add to a list\n",
    "with contextlib.redirect_stdout(None):\n",
    "    images = []\n",
    "    for filename in files:\n",
    "        images.append(imageio.imread(filename))\n",
    "\n",
    "    # Save the images as an animated gif\n",
    "    # duration is the time spent on each image (in milliseconds)\n",
    "    imageio.mimsave(timelapse_file, images, duration=1000.0, loop=0)  "
   ]
  },
  {
   "attachments": {},
   "cell_type": "markdown",
   "metadata": {},
   "source": [
    "## First day \n",
    "\n",
    "![first-day](./images/TROPESS_Canadian-Fires_CrIS-JPSS-1_XCO_01-Jun-2023.png)\n",
    "\n",
    "## Timelapse\n",
    "\n",
    "![timelapse](./images/TROPESS_Canadian-Fires_CrIS-JPSS-1_XCO_Timelapse_01-Jun-2023_08-Jun-2023.gif)"
   ]
  }
 ],
 "metadata": {
  "kernelspec": {
   "display_name": ".venv",
   "language": "python",
   "name": "python3"
  },
  "language_info": {
   "codemirror_mode": {
    "name": "ipython",
    "version": 3
   },
   "file_extension": ".py",
   "mimetype": "text/x-python",
   "name": "python",
   "nbconvert_exporter": "python",
   "pygments_lexer": "ipython3",
   "version": "3.10.0"
  },
  "vscode": {
   "interpreter": {
    "hash": "b7cfc0ec56b1d6945f565255d60f992e290460feecef750e75b6663be732b9eb"
   }
  },
  "widgets": {
   "application/vnd.jupyter.widget-state+json": {
    "state": {},
    "version_major": 2,
    "version_minor": 0
   }
  }
 },
 "nbformat": 4,
 "nbformat_minor": 4
}
