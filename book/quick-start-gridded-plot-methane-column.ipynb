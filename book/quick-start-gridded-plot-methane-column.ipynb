{
 "cells": [
  {
   "cell_type": "markdown",
   "metadata": {},
   "source": [
    "[![Open in GitHub Codespaces](https://github.com/codespaces/badge.svg)](https://codespaces.new/swiftsoftwaregroup/tropess-notes-python) [![Open In Colab](https://colab.research.google.com/assets/colab-badge.svg)](https://colab.research.google.com/github/swiftsoftwaregroup/tropess-notes-python/blob/main/book/quick-start-gridded-plot-methane-column.ipynb) [![Open in SageMaker Studio Lab](https://studiolab.sagemaker.aws/studiolab.svg)](https://studiolab.sagemaker.aws/import/github/swiftsoftwaregroup/tropess-notes-python/blob/main/book/quick-start-gridded-plot-methane-column.ipynb)"
   ]
  },
  {
   "attachments": {},
   "cell_type": "markdown",
   "metadata": {},
   "source": [
    "# Methane (CH4) Partial Column - Gridded Plot (1&deg; x 1&deg;)\n",
    "\n",
    "Create a gridded plot of Methane CH4 partial column retrieved from the [Cross-track Infrared Sounder (CrIS JPSS-1)](https://www.nesdis.noaa.gov/current-satellite-missions/currently-flying/joint-polar-satellite-system/cross-track-infrared) global observations."
   ]
  },
  {
   "cell_type": "code",
   "execution_count": null,
   "metadata": {},
   "outputs": [],
   "source": [
    "import numpy as np\n",
    "from netCDF4 import Dataset\n",
    "\n",
    "import matplotlib.pyplot as plt\n",
    "\n",
    "from mpl_toolkits.basemap import Basemap\n",
    "\n",
    "from scipy.interpolate import griddata\n",
    "from scipy.spatial import cKDTree"
   ]
  },
  {
   "cell_type": "code",
   "execution_count": null,
   "metadata": {},
   "outputs": [],
   "source": [
    "\n",
    "# Open the netCDF file\n",
    "dataset = Dataset('./data/TROPESS_CrIS-JPSS1_L2_Summary_CH4_20230516_MUSES_R1p20_FS_F0p6.nc', 'r')\n",
    "\n",
    "# Read the data from your variables\n",
    "latitude = dataset.variables['latitude'][:]\n",
    "longitude = dataset.variables['longitude'][:]\n",
    "x_col_p = dataset.variables['x_col_p'][:]\n",
    "\n",
    "dataset.close()\n",
    "\n",
    "# Specify figure size (in inches)\n",
    "dpi=300; w=3600 / dpi; h=2400 / dpi\n",
    "plt.figure(figsize=(w, h))  \n",
    "\n",
    "# Create a basemap instance\n",
    "m = Basemap(projection='cyl', resolution='l',\n",
    "            llcrnrlat=-90, urcrnrlat=90,  # set latitude limits to -90 and 90\n",
    "            llcrnrlon=-180, urcrnrlon=180)  # set longitude limits to -180 and 180\n",
    "\n",
    "m.drawcoastlines(linewidth=0.5)\n",
    "m.drawcountries(linewidth=0.5)\n",
    "\n",
    "# Draw parallels (latitude lines) and meridians (longitude lines)\n",
    "parallels = np.arange(-90., 91., 30.)\n",
    "m.drawparallels(parallels, labels=[True,False,False,False], linewidth=0.3)\n",
    "\n",
    "meridians = np.arange(-180., 181., 60.)\n",
    "m.drawmeridians(meridians, labels=[False,False,False,True], linewidth=0.3)\n",
    "\n",
    "# Get the grid for the interpolated values\n",
    "grid_lat, grid_lon = np.mgrid[-90:91:1, -180:181:1]\n",
    "\n",
    "# Interpolate the data using griddata\n",
    "grid_x_col_p = griddata((latitude, longitude), x_col_p, (grid_lat, grid_lon), method='linear')\n",
    "\n",
    "# Find the distance to the nearest original point for each point in the interpolated grid\n",
    "tree = cKDTree(np.vstack((latitude, longitude)).T)\n",
    "dist, _ = tree.query(np.vstack((grid_lat.ravel(), grid_lon.ravel())).T)\n",
    "\n",
    "# Reshape the distance array to have the same shape as the x_col_p grid\n",
    "dist_grid = dist.reshape(grid_x_col_p.shape)\n",
    "\n",
    "# Mask the interpolated values that are too far from any original point\n",
    "max_distance_degrees = 3.0\n",
    "grid_x_col_p[dist_grid > max_distance_degrees] = np.nan\n",
    "\n",
    "# Plot the interpolated data using pcolormesh instead of scatter\n",
    "sc = m.pcolormesh(grid_lon, grid_lat, grid_x_col_p, latlon=True, cmap='jet')\n",
    "\n",
    "# Add a colorbar\n",
    "cbar = m.colorbar(sc, location='bottom', pad=\"10%\")\n",
    "cbar.set_label('x_col_p')\n",
    "\n",
    "plt.show()"
   ]
  },
  {
   "attachments": {},
   "cell_type": "markdown",
   "metadata": {},
   "source": [
    "Bias corrected column-averaged dry air mixing ratio of Methane for the partial column (x_col_p) from 826 hPa to Top of Atmosphere (TOA) in ppbv - May 16th, 2023. "
   ]
  }
 ],
 "metadata": {
  "kernelspec": {
   "display_name": ".venv",
   "language": "python",
   "name": "python3"
  },
  "language_info": {
   "codemirror_mode": {
    "name": "ipython",
    "version": 3
   },
   "file_extension": ".py",
   "mimetype": "text/x-python",
   "name": "python",
   "nbconvert_exporter": "python",
   "pygments_lexer": "ipython3",
   "version": "3.10.0 (default, Nov 17 2022, 17:05:44) [Clang 14.0.0 (clang-1400.0.29.202)]"
  },
  "vscode": {
   "interpreter": {
    "hash": "4a085d235d494d19ab1dbd3d54e7ab926e2aa04e63d8a6b43534ed9bafc3e4ff"
   }
  },
  "widgets": {
   "application/vnd.jupyter.widget-state+json": {
    "state": {},
    "version_major": 2,
    "version_minor": 0
   }
  }
 },
 "nbformat": 4,
 "nbformat_minor": 4
}
