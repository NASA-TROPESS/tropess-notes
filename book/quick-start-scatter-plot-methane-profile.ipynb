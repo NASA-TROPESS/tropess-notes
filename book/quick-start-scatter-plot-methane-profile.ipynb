{
 "cells": [
  {
   "cell_type": "markdown",
   "metadata": {},
   "source": [
    "[![Open in GitHub Codespaces](https://github.com/codespaces/badge.svg)](https://codespaces.new/swiftsoftwaregroup/tropess-notes-python) [![Open In Colab](https://colab.research.google.com/assets/colab-badge.svg)](https://colab.research.google.com/github/swiftsoftwaregroup/tropess-notes-python/blob/main/book/quick-start-scatter-plot-methane-profile.ipynb) [![Open in SageMaker Studio Lab](https://studiolab.sagemaker.aws/studiolab.svg)](https://studiolab.sagemaker.aws/import/github/swiftsoftwaregroup/tropess-notes-python/blob/main/book/quick-start-scatter-plot-methane-profile.ipynb)"
   ]
  },
  {
   "attachments": {},
   "cell_type": "markdown",
   "metadata": {},
   "source": [
    "# Methane (CH4) Profile - Scatter Plots\n",
    "\n",
    "Create scatter plots at different pressure levels of Methane (CH4) retrieved from the [Cross-track Infrared Sounder (CrIS JPSS-1)](https://www.nesdis.noaa.gov/current-satellite-missions/currently-flying/joint-polar-satellite-system/cross-track-infrared) global observations."
   ]
  },
  {
   "attachments": {},
   "cell_type": "markdown",
   "metadata": {},
   "source": [
    "## Import packages"
   ]
  },
  {
   "cell_type": "code",
   "execution_count": null,
   "metadata": {},
   "outputs": [],
   "source": [
    "import numpy as np\n",
    "\n",
    "from netCDF4 import Dataset\n",
    "\n",
    "import metpy.calc as mpcalc\n",
    "from metpy.units import units\n",
    "\n",
    "import matplotlib\n",
    "\n",
    "import matplotlib.pyplot as plt\n",
    "from mpl_toolkits.basemap import Basemap"
   ]
  },
  {
   "attachments": {},
   "cell_type": "markdown",
   "metadata": {},
   "source": [
    "## Read data variables"
   ]
  },
  {
   "cell_type": "code",
   "execution_count": null,
   "metadata": {},
   "outputs": [],
   "source": [
    "# Open the netCDF file\n",
    "dataset = Dataset('./data/TROPESS_CrIS-JPSS1_L2_Standard_CH4_20230516_MUSES_R1p20_FS_F0p6.nc', 'r')\n",
    "\n",
    "# Read the data from variables\n",
    "latitude = dataset.variables['latitude'][:]\n",
    "longitude = dataset.variables['longitude'][:]\n",
    "\n",
    "x_all = dataset.variables['x'][:]\n",
    "pressure = dataset.variables['pressure'][:]\n",
    "\n",
    "dataset.close()"
   ]
  },
  {
   "attachments": {},
   "cell_type": "markdown",
   "metadata": {},
   "source": [
    "## Create plots\n",
    "\n",
    "Create plots for a few pressure levels higher than 261 hPa (11km and lower altitude). The `x` is bias corrected volume mixing ratio (VMR) of Methane relative to dry air at different pressure levels, in ppbv - May 16th, 2023. "
   ]
  },
  {
   "cell_type": "code",
   "execution_count": null,
   "metadata": {},
   "outputs": [],
   "source": [
    "# Convert x_all to parts per billion\n",
    "x_all = x_all * 1e9\n",
    "\n",
    "#  These were taken from the CH4 product user guide \n",
    "standard_pressure = [\n",
    "    1040.0000, 1000.0000, 825.4020, 681.2910, 562.3420, \n",
    "    464.1600, 383.1170, 316.2270, 261.0160, 215.4440, 161.5610, 121.1520, \n",
    "    90.8518, 68.1295, 51.0896, 38.3119, 28.7299, 21.5443, 16.1560, 12.1153, \n",
    "    9.0851, 6.8129, 4.6416, 1.6156, 0.6813, 0.1000\n",
    "]\n",
    "\n",
    "# Round pressure levels so that we can match specfic pressures later \n",
    "rounded_pressure = np.around(pressure, decimals=1)\n",
    "rounded_standard_pressure = np.around(standard_pressure, decimals=1)\n",
    "\n",
    "# Compute the altitudes (in km)\n",
    "# see: https://unidata.github.io/MetPy/latest/api/generated/metpy.calc.pressure_to_height_std.html\n",
    "standard_altitude = mpcalc.pressure_to_height_std(rounded_standard_pressure * units.hPa).m_as(units.meters)\n",
    "rounded_standard_altitude = np.around(standard_altitude, decimals=1)\n",
    "\n",
    "# select levels below 11km\n",
    "below_11km = np.where(rounded_standard_altitude <= 11000)[0]\n",
    "rounded_standard_pressure = rounded_standard_pressure[below_11km]\n",
    "\n",
    "# Plot each pressure level\n",
    "for pressure_1 in rounded_standard_pressure:\n",
    "    # Select data points at the specific pressure level\n",
    "    pressure_index = np.where(rounded_pressure == pressure_1)\n",
    "\n",
    "    # skip if empty\n",
    "    if pressure_index[0].size == 0 and pressure_index[1].size == 0:\n",
    "        continue\n",
    "\n",
    "    # filter data\n",
    "    x_level = x_all[ pressure_index[0], pressure_index[1] ]\n",
    "    latitude_level = latitude[ pressure_index[0] ]\n",
    "    longitude_level = longitude[ pressure_index[0] ]\n",
    "\n",
    "    # Get corresponding altitude\n",
    "    altitude_index = np.where(rounded_standard_pressure == pressure_1)[0]\n",
    "    altitude_1 = rounded_standard_altitude[altitude_index][0]\n",
    "\n",
    "    # Specify figure size (in inches)\n",
    "    plt.figure(figsize=(12, 8))  \n",
    "\n",
    "    # Create a basemap instance\n",
    "    m = Basemap(projection='cyl', resolution='l', \n",
    "                llcrnrlat=-90, urcrnrlat=90,  # set latitude limits to -90 and 90\n",
    "                llcrnrlon=-180, urcrnrlon=180)  # set longitude limits to -180 and 180\n",
    "\n",
    "    m.drawcoastlines(linewidth=0.2)\n",
    "    m.drawcountries(linewidth=0.2)\n",
    "\n",
    "    # Draw parallels (latitude lines) and meridians (longitude lines)\n",
    "    parallels = np.arange(-90., 91., 30.)\n",
    "    m.drawparallels(parallels, labels=[True,False,False,False], linewidth=0.3)\n",
    "\n",
    "    meridians = np.arange(-180., 181., 60.)\n",
    "    m.drawmeridians(meridians, labels=[False,False,False,True], linewidth=0.3)    \n",
    "\n",
    "    # Standard catter plot\n",
    "    # Transform lat and lon to map projection coordinates\n",
    "    x, y = m(longitude_level, latitude_level)\n",
    "\n",
    "    # Plot the data using scatter (you may want to choose a different colormap and normalization)\n",
    "    sc = m.scatter(x, y, c=x_level, cmap='jet', marker='.', s=10, vmin=1600.0, vmax=2400.0)\n",
    "\n",
    "    # Add a colorbar\n",
    "    cbar = m.colorbar(sc, location='bottom', pad=\"10%\")\n",
    "    cbar.set_label(f'x - volume mixing ratio (VMR) relative to dry air, {altitude_1} m, {pressure_1} hPa, ppbv')\n",
    "\n",
    "    # show the plot\n",
    "    plt.show()"
   ]
  }
 ],
 "metadata": {
  "kernelspec": {
   "display_name": ".venv",
   "language": "python",
   "name": "python3"
  },
  "language_info": {
   "codemirror_mode": {
    "name": "ipython",
    "version": 3
   },
   "file_extension": ".py",
   "mimetype": "text/x-python",
   "name": "python",
   "nbconvert_exporter": "python",
   "pygments_lexer": "ipython3",
   "version": "3.10.0"
  },
  "vscode": {
   "interpreter": {
    "hash": "4a085d235d494d19ab1dbd3d54e7ab926e2aa04e63d8a6b43534ed9bafc3e4ff"
   }
  },
  "widgets": {
   "application/vnd.jupyter.widget-state+json": {
    "state": {},
    "version_major": 2,
    "version_minor": 0
   }
  }
 },
 "nbformat": 4,
 "nbformat_minor": 4
}
